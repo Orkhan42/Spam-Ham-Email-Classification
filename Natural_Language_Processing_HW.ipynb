{
  "nbformat": 4,
  "nbformat_minor": 0,
  "metadata": {
    "colab": {
      "name": "Natural_Language_Processing_HW.ipynb",
      "provenance": [],
      "collapsed_sections": []
    },
    "kernelspec": {
      "name": "ir",
      "display_name": "R"
    },
    "language_info": {
      "name": "R"
    },
    "accelerator": "GPU"
  },
  "cells": [
    {
      "cell_type": "code",
      "metadata": {
        "colab": {
          "base_uri": "https://localhost:8080/",
          "height": 34
        },
        "id": "z1eNbDAfi7SA",
        "outputId": "de93e746-c17c-4cfa-b7e5-26a4747b947e"
      },
      "source": [
        "R.version.string"
      ],
      "execution_count": 1,
      "outputs": [
        {
          "output_type": "display_data",
          "data": {
            "text/plain": [
              "[1] \"R version 4.1.1 (2021-08-10)\""
            ],
            "text/latex": "'R version 4.1.1 (2021-08-10)'",
            "text/markdown": "'R version 4.1.1 (2021-08-10)'",
            "text/html": [
              "'R version 4.1.1 (2021-08-10)'"
            ]
          },
          "metadata": {}
        }
      ]
    },
    {
      "cell_type": "code",
      "metadata": {
        "colab": {
          "base_uri": "https://localhost:8080/"
        },
        "id": "IVlyTN1jjMtR",
        "outputId": "c16200f9-dfdd-452a-ffe8-d4439ff6a2ff"
      },
      "source": [
        "library(data.table)\n",
        "install.packages(\"text2vec\")\n",
        "install.packages(\"caTools\")\n",
        "install.packages(\"data.table\")\n",
        "install.packages(\"tidyverse\")\n",
        "install.packages(\"glmnet\")\n",
        "install.packages(\"inspectdf\")\n",
        "install.packages(\"magrittr\")\n",
        "install.packages(\"dplyr\")\n",
        "library(tidyverse)\n",
        "library(text2vec)\n",
        "library(caTools)\n",
        "library(glmnet)\n",
        "library(inspectdf)\n",
        "library(magrittr)\n",
        "library(dplyr)"
      ],
      "execution_count": 17,
      "outputs": [
        {
          "output_type": "stream",
          "text": [
            "Installing package into ‘/usr/local/lib/R/site-library’\n",
            "(as ‘lib’ is unspecified)\n",
            "\n",
            "Installing package into ‘/usr/local/lib/R/site-library’\n",
            "(as ‘lib’ is unspecified)\n",
            "\n",
            "Installing package into ‘/usr/local/lib/R/site-library’\n",
            "(as ‘lib’ is unspecified)\n",
            "\n",
            "Installing package into ‘/usr/local/lib/R/site-library’\n",
            "(as ‘lib’ is unspecified)\n",
            "\n",
            "Installing package into ‘/usr/local/lib/R/site-library’\n",
            "(as ‘lib’ is unspecified)\n",
            "\n",
            "Installing package into ‘/usr/local/lib/R/site-library’\n",
            "(as ‘lib’ is unspecified)\n",
            "\n",
            "Installing package into ‘/usr/local/lib/R/site-library’\n",
            "(as ‘lib’ is unspecified)\n",
            "\n",
            "Installing package into ‘/usr/local/lib/R/site-library’\n",
            "(as ‘lib’ is unspecified)\n",
            "\n"
          ],
          "name": "stderr"
        }
      ]
    },
    {
      "cell_type": "code",
      "metadata": {
        "colab": {
          "base_uri": "https://localhost:8080/"
        },
        "id": "nsb0W5OFjNEb",
        "outputId": "e3ee7522-7e74-42c0-a645-33924a899c96"
      },
      "source": [
        "df <- read.csv(\"/emails.csv\")\n",
        "str(df)"
      ],
      "execution_count": 18,
      "outputs": [
        {
          "output_type": "stream",
          "text": [
            "'data.frame':\t5728 obs. of  2 variables:\n",
            " $ text: chr  \"Subject: naturally irresistible your corporate identity  lt is really hard to recollect a company : the  market\"| __truncated__ \"Subject: the stock trading gunslinger  fanny is merrill but muzo not colza attainder and penultimate like esmar\"| __truncated__ \"Subject: unbelievable new homes made easy  im wanting to show you this  homeowner  you have been pre - approved\"| __truncated__ \"Subject: 4 color printing special  request additional information now ! click here  click here for a printable \"| __truncated__ ...\n",
            " $ spam: int  1 1 1 1 1 1 1 1 1 1 ...\n"
          ],
          "name": "stdout"
        }
      ]
    },
    {
      "cell_type": "code",
      "metadata": {
        "colab": {
          "base_uri": "https://localhost:8080/",
          "height": 34
        },
        "id": "EkSsSC_ujPFH",
        "outputId": "9c2183d1-bb1b-4c9a-d21b-2ef33a399850"
      },
      "source": [
        "colnames(df)"
      ],
      "execution_count": 19,
      "outputs": [
        {
          "output_type": "display_data",
          "data": {
            "text/plain": [
              "[1] \"text\" \"spam\""
            ],
            "text/latex": "\\begin{enumerate*}\n\\item 'text'\n\\item 'spam'\n\\end{enumerate*}\n",
            "text/markdown": "1. 'text'\n2. 'spam'\n\n\n",
            "text/html": [
              "<style>\n",
              ".list-inline {list-style: none; margin:0; padding: 0}\n",
              ".list-inline>li {display: inline-block}\n",
              ".list-inline>li:not(:last-child)::after {content: \"\\00b7\"; padding: 0 .5ex}\n",
              "</style>\n",
              "<ol class=list-inline><li>'text'</li><li>'spam'</li></ol>\n"
            ]
          },
          "metadata": {}
        }
      ]
    },
    {
      "cell_type": "code",
      "metadata": {
        "id": "th03SByhWbOC"
      },
      "source": [
        "df$ID <- seq.int(nrow(df))\n",
        "df <- df %>% select(ID, everything())"
      ],
      "execution_count": 20,
      "outputs": []
    },
    {
      "cell_type": "code",
      "metadata": {
        "colab": {
          "base_uri": "https://localhost:8080/",
          "height": 34
        },
        "id": "Q-gOZkrpWbpk",
        "outputId": "4a19cbc1-1c7e-4cc0-b915-01e3f098acdc"
      },
      "source": [
        "colnames(df)"
      ],
      "execution_count": 21,
      "outputs": [
        {
          "output_type": "display_data",
          "data": {
            "text/plain": [
              "[1] \"ID\"   \"text\" \"spam\""
            ],
            "text/latex": "\\begin{enumerate*}\n\\item 'ID'\n\\item 'text'\n\\item 'spam'\n\\end{enumerate*}\n",
            "text/markdown": "1. 'ID'\n2. 'text'\n3. 'spam'\n\n\n",
            "text/html": [
              "<style>\n",
              ".list-inline {list-style: none; margin:0; padding: 0}\n",
              ".list-inline>li {display: inline-block}\n",
              ".list-inline>li:not(:last-child)::after {content: \"\\00b7\"; padding: 0 .5ex}\n",
              "</style>\n",
              "<ol class=list-inline><li>'ID'</li><li>'text'</li><li>'spam'</li></ol>\n"
            ]
          },
          "metadata": {}
        }
      ]
    },
    {
      "cell_type": "code",
      "metadata": {
        "colab": {
          "base_uri": "https://localhost:8080/",
          "height": 190
        },
        "id": "_QGvbZftaFE6",
        "outputId": "c4a8ed26-5462-4832-9e04-3a87e113a423"
      },
      "source": [
        "df %>% inspect_na()"
      ],
      "execution_count": 22,
      "outputs": [
        {
          "output_type": "display_data",
          "data": {
            "text/plain": [
              "  col_name cnt pcnt\n",
              "1 ID       0   0   \n",
              "2 text     0   0   \n",
              "3 spam     0   0   "
            ],
            "text/latex": "A tibble: 3 × 3\n\\begin{tabular}{lll}\n col\\_name & cnt & pcnt\\\\\n <chr> & <int> & <dbl>\\\\\n\\hline\n\t ID   & 0 & 0\\\\\n\t text & 0 & 0\\\\\n\t spam & 0 & 0\\\\\n\\end{tabular}\n",
            "text/markdown": "\nA tibble: 3 × 3\n\n| col_name &lt;chr&gt; | cnt &lt;int&gt; | pcnt &lt;dbl&gt; |\n|---|---|---|\n| ID   | 0 | 0 |\n| text | 0 | 0 |\n| spam | 0 | 0 |\n\n",
            "text/html": [
              "<table class=\"dataframe\">\n",
              "<caption>A tibble: 3 × 3</caption>\n",
              "<thead>\n",
              "\t<tr><th scope=col>col_name</th><th scope=col>cnt</th><th scope=col>pcnt</th></tr>\n",
              "\t<tr><th scope=col>&lt;chr&gt;</th><th scope=col>&lt;int&gt;</th><th scope=col>&lt;dbl&gt;</th></tr>\n",
              "</thead>\n",
              "<tbody>\n",
              "\t<tr><td>ID  </td><td>0</td><td>0</td></tr>\n",
              "\t<tr><td>text</td><td>0</td><td>0</td></tr>\n",
              "\t<tr><td>spam</td><td>0</td><td>0</td></tr>\n",
              "</tbody>\n",
              "</table>\n"
            ]
          },
          "metadata": {}
        }
      ]
    },
    {
      "cell_type": "code",
      "metadata": {
        "colab": {
          "base_uri": "https://localhost:8080/"
        },
        "id": "AMlUMbewaFVM",
        "outputId": "a39123fe-9a04-4354-e27f-316afda4d5d2"
      },
      "source": [
        "glimpse(df)"
      ],
      "execution_count": 24,
      "outputs": [
        {
          "output_type": "stream",
          "text": [
            "Rows: 5,728\n",
            "Columns: 3\n",
            "$ ID   \u001b[3m\u001b[90m<int>\u001b[39m\u001b[23m 1, 2, 3, 4, 5, 6, 7, 8, 9, 10, 11, 12, 13, 14, 15, 16, 17, 18, 19…\n",
            "$ text \u001b[3m\u001b[90m<chr>\u001b[39m\u001b[23m \"Subject: naturally irresistible your corporate identity  lt is r…\n",
            "$ spam \u001b[3m\u001b[90m<int>\u001b[39m\u001b[23m 1, 1, 1, 1, 1, 1, 1, 1, 1, 1, 1, 1, 1, 1, 1, 1, 1, 1, 1, 1, 1, 1,…\n"
          ],
          "name": "stdout"
        }
      ]
    },
    {
      "cell_type": "code",
      "metadata": {
        "id": "o4xqs7KyaFcV"
      },
      "source": [
        "df$ID <- df$ID %>% as.character()"
      ],
      "execution_count": 25,
      "outputs": []
    },
    {
      "cell_type": "code",
      "metadata": {
        "colab": {
          "base_uri": "https://localhost:8080/"
        },
        "id": "bn7BB_01aF0C",
        "outputId": "1b437dcf-f783-4e4e-d2a5-e9d54fa27978"
      },
      "source": [
        "glimpse(df)"
      ],
      "execution_count": 26,
      "outputs": [
        {
          "output_type": "stream",
          "text": [
            "Rows: 5,728\n",
            "Columns: 3\n",
            "$ ID   \u001b[3m\u001b[90m<chr>\u001b[39m\u001b[23m \"1\", \"2\", \"3\", \"4\", \"5\", \"6\", \"7\", \"8\", \"9\", \"10\", \"11\", \"12\", \"1…\n",
            "$ text \u001b[3m\u001b[90m<chr>\u001b[39m\u001b[23m \"Subject: naturally irresistible your corporate identity  lt is r…\n",
            "$ spam \u001b[3m\u001b[90m<int>\u001b[39m\u001b[23m 1, 1, 1, 1, 1, 1, 1, 1, 1, 1, 1, 1, 1, 1, 1, 1, 1, 1, 1, 1, 1, 1,…\n"
          ],
          "name": "stdout"
        }
      ]
    },
    {
      "cell_type": "code",
      "metadata": {
        "id": "ktfliFFUiB6-"
      },
      "source": [
        "# Split data\n",
        "set.seed(123)\n",
        "split <- df$spam %>% sample.split(SplitRatio = 0.8)\n",
        "train <- df %>% subset(split == T)\n",
        "test <- df %>% subset(split == F)"
      ],
      "execution_count": 27,
      "outputs": []
    },
    {
      "cell_type": "code",
      "metadata": {
        "colab": {
          "base_uri": "https://localhost:8080/",
          "height": 441
        },
        "id": "e-mBBjH-iB-3",
        "outputId": "e8ca961f-b945-423f-b1ad-4b8b54f0f06c"
      },
      "source": [
        "#Tokenize\n",
        "it_train <- train$text %>% \n",
        "  itoken(preprocessor = tolower, \n",
        "         tokenizer = word_tokenizer,\n",
        "         ids = train$ID,\n",
        "         progressbar = F) \n",
        "\n",
        "train_tokens <- train$text %>% tolower() %>% word_tokenizer()\n",
        "\n",
        "it_train <- train_tokens %>% \n",
        "  itoken(ids = train$ID,\n",
        "         progressbar = F)\n",
        "\n",
        "vocab <- it_train %>% create_vocabulary()\n",
        "vocab %>% \n",
        "  arrange(desc(term_count)) %>% \n",
        "  head(110) %>% \n",
        "  tail(10) \n",
        "\n",
        "vectorizer <- vocab %>% vocab_vectorizer()\n",
        "dtm_train <- it_train %>% create_dtm(vectorizer)\n",
        "\n",
        "dtm_train %>% dim()\n",
        "identical(rownames(dtm_train), train$ID)"
      ],
      "execution_count": 28,
      "outputs": [
        {
          "output_type": "display_data",
          "data": {
            "text/plain": [
              "    term    term_count doc_count\n",
              "101 there   1350       935      \n",
              "102 out     1340       908      \n",
              "103 which   1334       809      \n",
              "104 company 1326       547      \n",
              "105 12      1323       762      \n",
              "106 shirley 1308       578      \n",
              "107 4       1299       778      \n",
              "108 edu     1295       454      \n",
              "109 no      1280       809      \n",
              "110 http    1278       767      "
            ],
            "text/latex": "A text2vec\\_vocabulary: 10 × 3\n\\begin{tabular}{r|lll}\n  & term & term\\_count & doc\\_count\\\\\n  & <chr> & <int> & <int>\\\\\n\\hline\n\t101 & there   & 1350 & 935\\\\\n\t102 & out     & 1340 & 908\\\\\n\t103 & which   & 1334 & 809\\\\\n\t104 & company & 1326 & 547\\\\\n\t105 & 12      & 1323 & 762\\\\\n\t106 & shirley & 1308 & 578\\\\\n\t107 & 4       & 1299 & 778\\\\\n\t108 & edu     & 1295 & 454\\\\\n\t109 & no      & 1280 & 809\\\\\n\t110 & http    & 1278 & 767\\\\\n\\end{tabular}\n",
            "text/markdown": "\nA text2vec_vocabulary: 10 × 3\n\n| <!--/--> | term &lt;chr&gt; | term_count &lt;int&gt; | doc_count &lt;int&gt; |\n|---|---|---|---|\n| 101 | there   | 1350 | 935 |\n| 102 | out     | 1340 | 908 |\n| 103 | which   | 1334 | 809 |\n| 104 | company | 1326 | 547 |\n| 105 | 12      | 1323 | 762 |\n| 106 | shirley | 1308 | 578 |\n| 107 | 4       | 1299 | 778 |\n| 108 | edu     | 1295 | 454 |\n| 109 | no      | 1280 | 809 |\n| 110 | http    | 1278 | 767 |\n\n",
            "text/html": [
              "<table class=\"dataframe\">\n",
              "<caption>A text2vec_vocabulary: 10 × 3</caption>\n",
              "<thead>\n",
              "\t<tr><th></th><th scope=col>term</th><th scope=col>term_count</th><th scope=col>doc_count</th></tr>\n",
              "\t<tr><th></th><th scope=col>&lt;chr&gt;</th><th scope=col>&lt;int&gt;</th><th scope=col>&lt;int&gt;</th></tr>\n",
              "</thead>\n",
              "<tbody>\n",
              "\t<tr><th scope=row>101</th><td>there  </td><td>1350</td><td>935</td></tr>\n",
              "\t<tr><th scope=row>102</th><td>out    </td><td>1340</td><td>908</td></tr>\n",
              "\t<tr><th scope=row>103</th><td>which  </td><td>1334</td><td>809</td></tr>\n",
              "\t<tr><th scope=row>104</th><td>company</td><td>1326</td><td>547</td></tr>\n",
              "\t<tr><th scope=row>105</th><td>12     </td><td>1323</td><td>762</td></tr>\n",
              "\t<tr><th scope=row>106</th><td>shirley</td><td>1308</td><td>578</td></tr>\n",
              "\t<tr><th scope=row>107</th><td>4      </td><td>1299</td><td>778</td></tr>\n",
              "\t<tr><th scope=row>108</th><td>edu    </td><td>1295</td><td>454</td></tr>\n",
              "\t<tr><th scope=row>109</th><td>no     </td><td>1280</td><td>809</td></tr>\n",
              "\t<tr><th scope=row>110</th><td>http   </td><td>1278</td><td>767</td></tr>\n",
              "</tbody>\n",
              "</table>\n"
            ]
          },
          "metadata": {}
        },
        {
          "output_type": "display_data",
          "data": {
            "text/plain": [
              "[1]  4582 33598"
            ],
            "text/latex": "\\begin{enumerate*}\n\\item 4582\n\\item 33598\n\\end{enumerate*}\n",
            "text/markdown": "1. 4582\n2. 33598\n\n\n",
            "text/html": [
              "<style>\n",
              ".list-inline {list-style: none; margin:0; padding: 0}\n",
              ".list-inline>li {display: inline-block}\n",
              ".list-inline>li:not(:last-child)::after {content: \"\\00b7\"; padding: 0 .5ex}\n",
              "</style>\n",
              "<ol class=list-inline><li>4582</li><li>33598</li></ol>\n"
            ]
          },
          "metadata": {}
        },
        {
          "output_type": "display_data",
          "data": {
            "text/plain": [
              "[1] TRUE"
            ],
            "text/latex": "TRUE",
            "text/markdown": "TRUE",
            "text/html": [
              "TRUE"
            ]
          },
          "metadata": {}
        }
      ]
    },
    {
      "cell_type": "code",
      "metadata": {
        "colab": {
          "base_uri": "https://localhost:8080/",
          "height": 492
        },
        "id": "4e95kQNFiCBv",
        "outputId": "a711b980-a833-4c2b-899d-9a108b98e0c8"
      },
      "source": [
        "#---Modeling---\n",
        "glmnet_classifier <- dtm_train %>% \n",
        "  cv.glmnet(y = train[['spam']],\n",
        "            family = 'binomial', \n",
        "            type.measure = \"auc\",\n",
        "            nfolds = 10,\n",
        "            thresh = 0.001,# high value is less accurate, but has faster training\n",
        "            maxit = 1000)# again lower number of iterations for faster training\n",
        "\n",
        "glmnet_classifier$cvm %>% max() %>% round(3) %>% paste(\"-> Max AUC\")\n",
        "\n",
        "\n",
        "it_test <- test$text %>% tolower() %>% word_tokenizer()\n",
        "\n",
        "it_test <- it_test %>% \n",
        "  itoken(ids = test$ID,\n",
        "         progressbar = F)\n",
        "\n",
        "dtm_test <- it_test %>% create_dtm(vectorizer)\n",
        "\n",
        "preds <- predict(glmnet_classifier, dtm_test, type = 'response')[,1]\n",
        "glmnet:::auc(test$spam, preds) %>% round(2)\n",
        "\n",
        "\n",
        "# Prune some words ----\n",
        "stop_words <- c(\"i\", \"you\", \"he\", \"she\", \"it\", \"we\", \"they\",\n",
        "                \"me\", \"him\", \"her\", \"them\",\n",
        "                \"my\", \"your\", \"yours\", \"his\", \"our\", \"ours\",\n",
        "                \"myself\", \"yourself\", \"himself\", \"herself\", \"ourselves\",\n",
        "                \"the\", \"a\", \"an\", \"and\", \"or\", \"on\", \"by\", \"so\",\n",
        "                \"from\", \"about\", \"to\", \"for\", \"of\", \n",
        "                \"that\", \"this\", \"is\", \"are\")\n",
        "\n",
        "vocab <- it_train %>% create_vocabulary(stopwords = stop_words)\n",
        "\n",
        "\n",
        "pruned_vocab <- vocab %>% \n",
        "  prune_vocabulary(term_count_min = 10, \n",
        "                   doc_proportion_max = 0.5,\n",
        "                   doc_proportion_min = 0.001)\n",
        "\n",
        "pruned_vocab %>% \n",
        "  arrange(desc(term_count)) %>% \n",
        "  head(10) \n",
        "\n",
        "vectorizer <- pruned_vocab %>% vocab_vectorizer()\n",
        "\n",
        "dtm_train <- it_train %>% create_dtm(vectorizer)\n",
        "dtm_train %>% dim()\n",
        "\n",
        "glmnet_classifier <- dtm_train %>% \n",
        "  cv.glmnet(y = train[['spam']], \n",
        "            family = 'binomial',\n",
        "            type.measure = \"auc\",\n",
        "            nfolds = 4,\n",
        "            thresh = 0.001,\n",
        "            maxit = 1000)\n",
        "\n",
        "glmnet_classifier$cvm %>% max() %>% round(3) %>% paste(\"-> Max AUC\")\n",
        "\n",
        "dtm_test <- it_test %>% create_dtm(vectorizer)\n",
        "preds <- predict(glmnet_classifier, dtm_test, type = 'response')[,1]\n",
        "glmnet:::auc(test$spam, preds) %>% round(2)"
      ],
      "execution_count": 29,
      "outputs": [
        {
          "output_type": "display_data",
          "data": {
            "text/plain": [
              "[1] \"0.994 -> Max AUC\""
            ],
            "text/latex": "'0.994 -> Max AUC'",
            "text/markdown": "'0.994 -&gt; Max AUC'",
            "text/html": [
              "'0.994 -&gt; Max AUC'"
            ]
          },
          "metadata": {}
        },
        {
          "output_type": "display_data",
          "data": {
            "text/plain": [
              "[1] 0.99"
            ],
            "text/latex": "0.99",
            "text/markdown": "0.99",
            "text/html": [
              "0.99"
            ]
          },
          "metadata": {}
        },
        {
          "output_type": "display_data",
          "data": {
            "text/plain": [
              "   term  term_count doc_count\n",
              "1  enron 10701      2078     \n",
              "2  ect    9106      1294     \n",
              "3  vince  6646      2219     \n",
              "4  at     5373      2238     \n",
              "5  s      5121      1923     \n",
              "6  as     4913      1906     \n",
              "7  hou    4455      1212     \n",
              "8  com    4304      1556     \n",
              "9  if     4110      2181     \n",
              "10 am     3985      1812     "
            ],
            "text/latex": "A text2vec\\_vocabulary: 10 × 3\n\\begin{tabular}{r|lll}\n  & term & term\\_count & doc\\_count\\\\\n  & <chr> & <int> & <int>\\\\\n\\hline\n\t1 & enron & 10701 & 2078\\\\\n\t2 & ect   &  9106 & 1294\\\\\n\t3 & vince &  6646 & 2219\\\\\n\t4 & at    &  5373 & 2238\\\\\n\t5 & s     &  5121 & 1923\\\\\n\t6 & as    &  4913 & 1906\\\\\n\t7 & hou   &  4455 & 1212\\\\\n\t8 & com   &  4304 & 1556\\\\\n\t9 & if    &  4110 & 2181\\\\\n\t10 & am    &  3985 & 1812\\\\\n\\end{tabular}\n",
            "text/markdown": "\nA text2vec_vocabulary: 10 × 3\n\n| <!--/--> | term &lt;chr&gt; | term_count &lt;int&gt; | doc_count &lt;int&gt; |\n|---|---|---|---|\n| 1 | enron | 10701 | 2078 |\n| 2 | ect   |  9106 | 1294 |\n| 3 | vince |  6646 | 2219 |\n| 4 | at    |  5373 | 2238 |\n| 5 | s     |  5121 | 1923 |\n| 6 | as    |  4913 | 1906 |\n| 7 | hou   |  4455 | 1212 |\n| 8 | com   |  4304 | 1556 |\n| 9 | if    |  4110 | 2181 |\n| 10 | am    |  3985 | 1812 |\n\n",
            "text/html": [
              "<table class=\"dataframe\">\n",
              "<caption>A text2vec_vocabulary: 10 × 3</caption>\n",
              "<thead>\n",
              "\t<tr><th></th><th scope=col>term</th><th scope=col>term_count</th><th scope=col>doc_count</th></tr>\n",
              "\t<tr><th></th><th scope=col>&lt;chr&gt;</th><th scope=col>&lt;int&gt;</th><th scope=col>&lt;int&gt;</th></tr>\n",
              "</thead>\n",
              "<tbody>\n",
              "\t<tr><th scope=row>1</th><td>enron</td><td>10701</td><td>2078</td></tr>\n",
              "\t<tr><th scope=row>2</th><td>ect  </td><td> 9106</td><td>1294</td></tr>\n",
              "\t<tr><th scope=row>3</th><td>vince</td><td> 6646</td><td>2219</td></tr>\n",
              "\t<tr><th scope=row>4</th><td>at   </td><td> 5373</td><td>2238</td></tr>\n",
              "\t<tr><th scope=row>5</th><td>s    </td><td> 5121</td><td>1923</td></tr>\n",
              "\t<tr><th scope=row>6</th><td>as   </td><td> 4913</td><td>1906</td></tr>\n",
              "\t<tr><th scope=row>7</th><td>hou  </td><td> 4455</td><td>1212</td></tr>\n",
              "\t<tr><th scope=row>8</th><td>com  </td><td> 4304</td><td>1556</td></tr>\n",
              "\t<tr><th scope=row>9</th><td>if   </td><td> 4110</td><td>2181</td></tr>\n",
              "\t<tr><th scope=row>10</th><td>am   </td><td> 3985</td><td>1812</td></tr>\n",
              "</tbody>\n",
              "</table>\n"
            ]
          },
          "metadata": {}
        },
        {
          "output_type": "display_data",
          "data": {
            "text/plain": [
              "[1] 4582 6643"
            ],
            "text/latex": "\\begin{enumerate*}\n\\item 4582\n\\item 6643\n\\end{enumerate*}\n",
            "text/markdown": "1. 4582\n2. 6643\n\n\n",
            "text/html": [
              "<style>\n",
              ".list-inline {list-style: none; margin:0; padding: 0}\n",
              ".list-inline>li {display: inline-block}\n",
              ".list-inline>li:not(:last-child)::after {content: \"\\00b7\"; padding: 0 .5ex}\n",
              "</style>\n",
              "<ol class=list-inline><li>4582</li><li>6643</li></ol>\n"
            ]
          },
          "metadata": {}
        },
        {
          "output_type": "display_data",
          "data": {
            "text/plain": [
              "[1] \"0.995 -> Max AUC\""
            ],
            "text/latex": "'0.995 -> Max AUC'",
            "text/markdown": "'0.995 -&gt; Max AUC'",
            "text/html": [
              "'0.995 -&gt; Max AUC'"
            ]
          },
          "metadata": {}
        },
        {
          "output_type": "display_data",
          "data": {
            "text/plain": [
              "[1] 0.99"
            ],
            "text/latex": "0.99",
            "text/markdown": "0.99",
            "text/html": [
              "0.99"
            ]
          },
          "metadata": {}
        }
      ]
    },
    {
      "cell_type": "code",
      "metadata": {
        "id": "Bsr-PNSEiCE0"
      },
      "source": [
        ""
      ],
      "execution_count": null,
      "outputs": []
    }
  ]
}